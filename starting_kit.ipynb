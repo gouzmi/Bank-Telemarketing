{
  "nbformat": 4,
  "nbformat_minor": 0,
  "metadata": {
    "hide_input": false,
    "kernelspec": {
      "display_name": "Python 3",
      "language": "python",
      "name": "python3"
    },
    "language_info": {
      "codemirror_mode": {
        "name": "ipython",
        "version": 3
      },
      "file_extension": ".py",
      "mimetype": "text/x-python",
      "name": "python",
      "nbconvert_exporter": "python",
      "pygments_lexer": "ipython3",
      "version": "3.6.12"
    },
    "varInspector": {
      "cols": {
        "lenName": 16,
        "lenType": 16,
        "lenVar": 40
      },
      "kernels_config": {
        "python": {
          "delete_cmd_postfix": "",
          "delete_cmd_prefix": "del ",
          "library": "var_list.py",
          "varRefreshCmd": "print(var_dic_list())"
        },
        "r": {
          "delete_cmd_postfix": ") ",
          "delete_cmd_prefix": "rm(",
          "library": "var_list.r",
          "varRefreshCmd": "cat(var_dic_list()) "
        }
      },
      "types_to_exclude": [
        "module",
        "function",
        "builtin_function_or_method",
        "instance",
        "_Feature"
      ],
      "window_display": false
    },
    "colab": {
      "name": "starting_kit.ipynb",
      "provenance": [],
      "collapsed_sections": [
        "BgeCxWPjfA-S",
        "m6W8bvv4fA-W",
        "q_17-j-LfA-Y",
        "pbWEu0oJfA-Z"
      ]
    }
  },
  "cells": [
    {
      "cell_type": "markdown",
      "metadata": {
        "id": "O-cOoSRFgXle"
      },
      "source": [
        "\n",
        "<center> \n",
        "    <h1> \n",
        "        \n",
        "    Data Camp Project:  Bank-Telemarketing\n",
        "\n",
        "\n",
        "\n",
        "\n"
      ]
    },
    {
      "cell_type": "markdown",
      "metadata": {
        "id": "Xk2SdP9IgXT-"
      },
      "source": [
        "Authors :  Ophelie Bleu, Ines Ben-Rached, Guillaume Dupont, Manal Zidani, Mathieu Lormeau\n"
      ]
    },
    {
      "cell_type": "code",
      "metadata": {
        "id": "c3WrFbY7fA-L"
      },
      "source": [
        "import seaborn as sns\n",
        "import pandas as pd\n",
        "import numpy as np\n",
        "import matplotlib.pyplot as plt\n",
        "%matplotlib inline\n",
        "\n",
        "pd.options.display.max_columns = None"
      ],
      "execution_count": 3,
      "outputs": []
    },
    {
      "cell_type": "markdown",
      "metadata": {
        "id": "hN1PXZxQh8jv"
      },
      "source": [
        "#Intoduction\n"
      ]
    },
    {
      "cell_type": "markdown",
      "metadata": {
        "id": "WuBKbgWEitmE"
      },
      "source": [
        "Usually, banks like to know if their clients would ('yes') or ('no') subscribe to term deposit. \n",
        " The data that we are using in this challenge is related with direct marketing campaigns of a Portuguese banking institution. The marketing campaigns were based on phone calls. Often, more than one contact to the same client was required."
      ]
    },
    {
      "cell_type": "markdown",
      "metadata": {
        "id": "b84yBO3LfA-O"
      },
      "source": [
        "Here is the official description of the attributes of our dataset.\n",
        "\n",
        "\n",
        "#### Bank client data:\n",
        "\n",
        "- **1 - age (numeric)**\n",
        "- **2 - job (categorical)** : type of job ('admin.', 'blue-collar', 'entrepreneur', 'housemaid', 'management', 'retired', 'self-employed', 'services', 'student', 'technician', 'unemployed', 'unknown')\n",
        "- **3 - marital (categorical)** : marital status ('divorced', 'married', 'single', 'unknown'; note: 'divorced' means divorced or widowed)\n",
        "- **4 - education (categorical)** : 'basic.4y', 'basic.6y', 'basic.9y', 'high.school', 'illiterate', 'professional.course', 'university.degree', 'unknown')\n",
        "- **5 - default (categorical)** : has credit in default? ('no', 'yes', 'unknown')\n",
        "- **6 - housing (categorical)** : has housing loan? ('no', 'yes', 'unknown')\n",
        "- **7 - loan (categorical)** : has personal loan? ('no', 'yes', 'unknown')\n",
        "\n",
        "#### Related with the last contact of the current campaign:\n",
        "\n",
        "- **8 - contact (categorical)** : contact communication type ('cellular', 'telephone')\n",
        "- **9 - month (categorical)**: last contact month of year ('jan', 'feb', 'mar', ..., 'nov', 'dec')\n",
        "- **10 - day_of_week (categorical)** : last contact day of the week ('mon', 'tue', 'wed', 'thu', 'fri')\n",
        "- **11 - duration (numeric)** : last contact duration, in seconds. Important note: this attribute highly affects the output target (e.g., if duration=0 then y='no'). Yet, the duration is not known before a call is performed. Also, after the end of the call y is obviously known. Thus, this input should only be included for benchmark purposes and should be discarded if the intention is to have a realistic predictive model.\n",
        "\n",
        "#### Other attributes:\n",
        "- **12 - campaign (numeric, includes last contact)** : number of contacts performed during this campaign and for this client\n",
        "- **13 - pdays (numeric; 999 means client was not previously contacted)** : number of days that passed by after the client was last contacted from a previous campaign \n",
        "- **14 - previous (numeric)** : number of contacts performed before this campaign and for this client\n",
        "- **15 - poutcome (categorical)** : outcome of the previous marketing campaign ('failure', 'nonexistent', 'success')\n",
        "\n",
        "#### Social and economic context attributes\n",
        "\n",
        "- **16 - emp.var.rate (numeric)** : employment variation rate - quarterly indicator\n",
        "- **17 - cons.price.idx (numeric)** : consumer price index - monthly indicator\n",
        "- **18 - cons.conf.idx (numeric)** : consumer confidence index - monthly indicator\n",
        "- **19 - euribor3m (numeric)** : euribor 3 month rate - daily indicator\n",
        "- **20 - nr.employed (numeric)** : number of employees - quarterly indicator\n",
        "\n",
        "#### Output variable (desired target):\n",
        "- **21 - y (binary)** : has the client subscribed a term deposit? ('yes', 'no')"
      ]
    },
    {
      "cell_type": "markdown",
      "metadata": {
        "id": "sDGwy3LofA-N"
      },
      "source": [
        "Let's load the data and take a first look at it."
      ]
    },
    {
      "cell_type": "code",
      "metadata": {
        "colab": {
          "base_uri": "https://localhost:8080/",
          "height": 375
        },
        "id": "g1DJPj6EfA-N",
        "outputId": "6c814b59-f7cf-486c-867a-1d71c6af485c"
      },
      "source": [
        "df = pd.read_csv('data/bank-full.csv', sep=\";\")"
      ],
      "execution_count": 4,
      "outputs": [
        {
          "output_type": "error",
          "ename": "FileNotFoundError",
          "evalue": "ignored",
          "traceback": [
            "\u001b[0;31m---------------------------------------------------------------------------\u001b[0m",
            "\u001b[0;31mFileNotFoundError\u001b[0m                         Traceback (most recent call last)",
            "\u001b[0;32m<ipython-input-4-b56dabaade40>\u001b[0m in \u001b[0;36m<module>\u001b[0;34m()\u001b[0m\n\u001b[0;32m----> 1\u001b[0;31m \u001b[0mdf\u001b[0m \u001b[0;34m=\u001b[0m \u001b[0mpd\u001b[0m\u001b[0;34m.\u001b[0m\u001b[0mread_csv\u001b[0m\u001b[0;34m(\u001b[0m\u001b[0;34m'data/bank-full.csv'\u001b[0m\u001b[0;34m,\u001b[0m \u001b[0msep\u001b[0m\u001b[0;34m=\u001b[0m\u001b[0;34m\";\"\u001b[0m\u001b[0;34m)\u001b[0m\u001b[0;34m\u001b[0m\u001b[0;34m\u001b[0m\u001b[0m\n\u001b[0m",
            "\u001b[0;32m/usr/local/lib/python3.6/dist-packages/pandas/io/parsers.py\u001b[0m in \u001b[0;36mread_csv\u001b[0;34m(filepath_or_buffer, sep, delimiter, header, names, index_col, usecols, squeeze, prefix, mangle_dupe_cols, dtype, engine, converters, true_values, false_values, skipinitialspace, skiprows, skipfooter, nrows, na_values, keep_default_na, na_filter, verbose, skip_blank_lines, parse_dates, infer_datetime_format, keep_date_col, date_parser, dayfirst, cache_dates, iterator, chunksize, compression, thousands, decimal, lineterminator, quotechar, quoting, doublequote, escapechar, comment, encoding, dialect, error_bad_lines, warn_bad_lines, delim_whitespace, low_memory, memory_map, float_precision)\u001b[0m\n\u001b[1;32m    686\u001b[0m     )\n\u001b[1;32m    687\u001b[0m \u001b[0;34m\u001b[0m\u001b[0m\n\u001b[0;32m--> 688\u001b[0;31m     \u001b[0;32mreturn\u001b[0m \u001b[0m_read\u001b[0m\u001b[0;34m(\u001b[0m\u001b[0mfilepath_or_buffer\u001b[0m\u001b[0;34m,\u001b[0m \u001b[0mkwds\u001b[0m\u001b[0;34m)\u001b[0m\u001b[0;34m\u001b[0m\u001b[0;34m\u001b[0m\u001b[0m\n\u001b[0m\u001b[1;32m    689\u001b[0m \u001b[0;34m\u001b[0m\u001b[0m\n\u001b[1;32m    690\u001b[0m \u001b[0;34m\u001b[0m\u001b[0m\n",
            "\u001b[0;32m/usr/local/lib/python3.6/dist-packages/pandas/io/parsers.py\u001b[0m in \u001b[0;36m_read\u001b[0;34m(filepath_or_buffer, kwds)\u001b[0m\n\u001b[1;32m    452\u001b[0m \u001b[0;34m\u001b[0m\u001b[0m\n\u001b[1;32m    453\u001b[0m     \u001b[0;31m# Create the parser.\u001b[0m\u001b[0;34m\u001b[0m\u001b[0;34m\u001b[0m\u001b[0;34m\u001b[0m\u001b[0m\n\u001b[0;32m--> 454\u001b[0;31m     \u001b[0mparser\u001b[0m \u001b[0;34m=\u001b[0m \u001b[0mTextFileReader\u001b[0m\u001b[0;34m(\u001b[0m\u001b[0mfp_or_buf\u001b[0m\u001b[0;34m,\u001b[0m \u001b[0;34m**\u001b[0m\u001b[0mkwds\u001b[0m\u001b[0;34m)\u001b[0m\u001b[0;34m\u001b[0m\u001b[0;34m\u001b[0m\u001b[0m\n\u001b[0m\u001b[1;32m    455\u001b[0m \u001b[0;34m\u001b[0m\u001b[0m\n\u001b[1;32m    456\u001b[0m     \u001b[0;32mif\u001b[0m \u001b[0mchunksize\u001b[0m \u001b[0;32mor\u001b[0m \u001b[0miterator\u001b[0m\u001b[0;34m:\u001b[0m\u001b[0;34m\u001b[0m\u001b[0;34m\u001b[0m\u001b[0m\n",
            "\u001b[0;32m/usr/local/lib/python3.6/dist-packages/pandas/io/parsers.py\u001b[0m in \u001b[0;36m__init__\u001b[0;34m(self, f, engine, **kwds)\u001b[0m\n\u001b[1;32m    946\u001b[0m             \u001b[0mself\u001b[0m\u001b[0;34m.\u001b[0m\u001b[0moptions\u001b[0m\u001b[0;34m[\u001b[0m\u001b[0;34m\"has_index_names\"\u001b[0m\u001b[0;34m]\u001b[0m \u001b[0;34m=\u001b[0m \u001b[0mkwds\u001b[0m\u001b[0;34m[\u001b[0m\u001b[0;34m\"has_index_names\"\u001b[0m\u001b[0;34m]\u001b[0m\u001b[0;34m\u001b[0m\u001b[0;34m\u001b[0m\u001b[0m\n\u001b[1;32m    947\u001b[0m \u001b[0;34m\u001b[0m\u001b[0m\n\u001b[0;32m--> 948\u001b[0;31m         \u001b[0mself\u001b[0m\u001b[0;34m.\u001b[0m\u001b[0m_make_engine\u001b[0m\u001b[0;34m(\u001b[0m\u001b[0mself\u001b[0m\u001b[0;34m.\u001b[0m\u001b[0mengine\u001b[0m\u001b[0;34m)\u001b[0m\u001b[0;34m\u001b[0m\u001b[0;34m\u001b[0m\u001b[0m\n\u001b[0m\u001b[1;32m    949\u001b[0m \u001b[0;34m\u001b[0m\u001b[0m\n\u001b[1;32m    950\u001b[0m     \u001b[0;32mdef\u001b[0m \u001b[0mclose\u001b[0m\u001b[0;34m(\u001b[0m\u001b[0mself\u001b[0m\u001b[0;34m)\u001b[0m\u001b[0;34m:\u001b[0m\u001b[0;34m\u001b[0m\u001b[0;34m\u001b[0m\u001b[0m\n",
            "\u001b[0;32m/usr/local/lib/python3.6/dist-packages/pandas/io/parsers.py\u001b[0m in \u001b[0;36m_make_engine\u001b[0;34m(self, engine)\u001b[0m\n\u001b[1;32m   1178\u001b[0m     \u001b[0;32mdef\u001b[0m \u001b[0m_make_engine\u001b[0m\u001b[0;34m(\u001b[0m\u001b[0mself\u001b[0m\u001b[0;34m,\u001b[0m \u001b[0mengine\u001b[0m\u001b[0;34m=\u001b[0m\u001b[0;34m\"c\"\u001b[0m\u001b[0;34m)\u001b[0m\u001b[0;34m:\u001b[0m\u001b[0;34m\u001b[0m\u001b[0;34m\u001b[0m\u001b[0m\n\u001b[1;32m   1179\u001b[0m         \u001b[0;32mif\u001b[0m \u001b[0mengine\u001b[0m \u001b[0;34m==\u001b[0m \u001b[0;34m\"c\"\u001b[0m\u001b[0;34m:\u001b[0m\u001b[0;34m\u001b[0m\u001b[0;34m\u001b[0m\u001b[0m\n\u001b[0;32m-> 1180\u001b[0;31m             \u001b[0mself\u001b[0m\u001b[0;34m.\u001b[0m\u001b[0m_engine\u001b[0m \u001b[0;34m=\u001b[0m \u001b[0mCParserWrapper\u001b[0m\u001b[0;34m(\u001b[0m\u001b[0mself\u001b[0m\u001b[0;34m.\u001b[0m\u001b[0mf\u001b[0m\u001b[0;34m,\u001b[0m \u001b[0;34m**\u001b[0m\u001b[0mself\u001b[0m\u001b[0;34m.\u001b[0m\u001b[0moptions\u001b[0m\u001b[0;34m)\u001b[0m\u001b[0;34m\u001b[0m\u001b[0;34m\u001b[0m\u001b[0m\n\u001b[0m\u001b[1;32m   1181\u001b[0m         \u001b[0;32melse\u001b[0m\u001b[0;34m:\u001b[0m\u001b[0;34m\u001b[0m\u001b[0;34m\u001b[0m\u001b[0m\n\u001b[1;32m   1182\u001b[0m             \u001b[0;32mif\u001b[0m \u001b[0mengine\u001b[0m \u001b[0;34m==\u001b[0m \u001b[0;34m\"python\"\u001b[0m\u001b[0;34m:\u001b[0m\u001b[0;34m\u001b[0m\u001b[0;34m\u001b[0m\u001b[0m\n",
            "\u001b[0;32m/usr/local/lib/python3.6/dist-packages/pandas/io/parsers.py\u001b[0m in \u001b[0;36m__init__\u001b[0;34m(self, src, **kwds)\u001b[0m\n\u001b[1;32m   2008\u001b[0m         \u001b[0mkwds\u001b[0m\u001b[0;34m[\u001b[0m\u001b[0;34m\"usecols\"\u001b[0m\u001b[0;34m]\u001b[0m \u001b[0;34m=\u001b[0m \u001b[0mself\u001b[0m\u001b[0;34m.\u001b[0m\u001b[0musecols\u001b[0m\u001b[0;34m\u001b[0m\u001b[0;34m\u001b[0m\u001b[0m\n\u001b[1;32m   2009\u001b[0m \u001b[0;34m\u001b[0m\u001b[0m\n\u001b[0;32m-> 2010\u001b[0;31m         \u001b[0mself\u001b[0m\u001b[0;34m.\u001b[0m\u001b[0m_reader\u001b[0m \u001b[0;34m=\u001b[0m \u001b[0mparsers\u001b[0m\u001b[0;34m.\u001b[0m\u001b[0mTextReader\u001b[0m\u001b[0;34m(\u001b[0m\u001b[0msrc\u001b[0m\u001b[0;34m,\u001b[0m \u001b[0;34m**\u001b[0m\u001b[0mkwds\u001b[0m\u001b[0;34m)\u001b[0m\u001b[0;34m\u001b[0m\u001b[0;34m\u001b[0m\u001b[0m\n\u001b[0m\u001b[1;32m   2011\u001b[0m         \u001b[0mself\u001b[0m\u001b[0;34m.\u001b[0m\u001b[0munnamed_cols\u001b[0m \u001b[0;34m=\u001b[0m \u001b[0mself\u001b[0m\u001b[0;34m.\u001b[0m\u001b[0m_reader\u001b[0m\u001b[0;34m.\u001b[0m\u001b[0munnamed_cols\u001b[0m\u001b[0;34m\u001b[0m\u001b[0;34m\u001b[0m\u001b[0m\n\u001b[1;32m   2012\u001b[0m \u001b[0;34m\u001b[0m\u001b[0m\n",
            "\u001b[0;32mpandas/_libs/parsers.pyx\u001b[0m in \u001b[0;36mpandas._libs.parsers.TextReader.__cinit__\u001b[0;34m()\u001b[0m\n",
            "\u001b[0;32mpandas/_libs/parsers.pyx\u001b[0m in \u001b[0;36mpandas._libs.parsers.TextReader._setup_parser_source\u001b[0;34m()\u001b[0m\n",
            "\u001b[0;31mFileNotFoundError\u001b[0m: [Errno 2] No such file or directory: 'data/bank-full.csv'"
          ]
        }
      ]
    },
    {
      "cell_type": "code",
      "metadata": {
        "id": "9WUiEB3AfA-O"
      },
      "source": [
        "df.head()"
      ],
      "execution_count": null,
      "outputs": []
    },
    {
      "cell_type": "code",
      "metadata": {
        "id": "pv7RN0LffA-P"
      },
      "source": [
        "df.info()"
      ],
      "execution_count": null,
      "outputs": []
    },
    {
      "cell_type": "markdown",
      "metadata": {
        "id": "0BgVOtMTfA-P"
      },
      "source": [
        "We have **41188 entries** and **21 columns**. The column **'y'** is the one we will try to predict.\n",
        "\n",
        "The numerical columns were correctly identified by pandas and categorical features were loaded with the object dtype. We convert these columns to the categorical dtype."
      ]
    },
    {
      "cell_type": "code",
      "metadata": {
        "id": "gMJUy_e6fA-P"
      },
      "source": [
        "cat_cols = [column_name for column_name in df.columns if str(\n",
        "    df[column_name].dtype) == 'object']\n",
        "num_cols = [\n",
        "    column_name for column_name in df.columns if column_name not in cat_cols]\n",
        "df[cat_cols] = df[cat_cols].astype('category')"
      ],
      "execution_count": null,
      "outputs": []
    },
    {
      "cell_type": "markdown",
      "metadata": {
        "id": "o4NSz7CxfA-Q"
      },
      "source": [
        "Some values are missing and currently market as unknown in the dataset. We will keep them for our exploratory analysis and will impute them after using the KNN imputer from scikit-learn."
      ]
    },
    {
      "cell_type": "markdown",
      "metadata": {
        "id": "JxT_fhFpfA-Q"
      },
      "source": [
        "## 1. Exploratory Data Analysis"
      ]
    },
    {
      "cell_type": "markdown",
      "metadata": {
        "id": "kvvCPxfTfA-Q"
      },
      "source": [
        "### 1.1 Univariate analysis"
      ]
    },
    {
      "cell_type": "markdown",
      "metadata": {
        "id": "Jm4Vwf6tfA-Q"
      },
      "source": [
        "We define a helper function to make bar plots for categorical variables."
      ]
    },
    {
      "cell_type": "code",
      "metadata": {
        "id": "7D3DBxCxfA-Q"
      },
      "source": [
        "def plot_cat_bars(cols):\n",
        "    if isinstance(cols, str):\n",
        "        cols = [cols]\n",
        "    n_cols = 2\n",
        "    n_rows = int(np.ceil(len(cols)/n_cols))\n",
        "    fig, axes = plt.subplots(nrows=n_rows, ncols=n_cols,\n",
        "                             figsize=(15, 4 * n_rows), squeeze=False)\n",
        "    for i, column in enumerate(cols):  # last column is the target variable\n",
        "        df[column].value_counts().plot(\n",
        "            kind='bar', ax=axes[i//n_cols, i % n_cols], title=column, rot=45)\n",
        "    if len(cols) % 2 == 1:\n",
        "        axes[-1, -1].set_visible(False)"
      ],
      "execution_count": null,
      "outputs": []
    },
    {
      "cell_type": "markdown",
      "metadata": {
        "id": "vGDeyb0dfA-R"
      },
      "source": [
        "#### 1.1.1 Target variable"
      ]
    },
    {
      "cell_type": "code",
      "metadata": {
        "id": "Jv4sFlPffA-R"
      },
      "source": [
        "plot_cat_bars('y')"
      ],
      "execution_count": null,
      "outputs": []
    },
    {
      "cell_type": "code",
      "metadata": {
        "id": "DlW1-CENfA-R"
      },
      "source": [
        "np.sum(df['y'] == 'yes') / df.shape[0]"
      ],
      "execution_count": null,
      "outputs": []
    },
    {
      "cell_type": "markdown",
      "metadata": {
        "id": "05IcMJxrfA-S"
      },
      "source": [
        "Clients subscribe to a term deposit in only **11.2%** of the cases. This is a significant **class imbalance** in our target variable which we will need to take into consideration in our models."
      ]
    },
    {
      "cell_type": "markdown",
      "metadata": {
        "id": "BgeCxWPjfA-S"
      },
      "source": [
        "#### 1.1.2 Categorical features"
      ]
    },
    {
      "cell_type": "markdown",
      "metadata": {
        "id": "iJ9AlNcvfA-S"
      },
      "source": [
        "Let's take a look at our categorical features distributions."
      ]
    },
    {
      "cell_type": "code",
      "metadata": {
        "id": "7Bjk2YQSfA-S"
      },
      "source": [
        "plot_cat_bars([\"job\", \"marital\"])"
      ],
      "execution_count": null,
      "outputs": []
    },
    {
      "cell_type": "markdown",
      "metadata": {
        "id": "L-dG2p8-fA-T"
      },
      "source": [
        "- There are very few unknown values for the job and marital features so imputing new values using KNN should work just fine.\n",
        "\n",
        "- Distributions across categories are clearly not uniform."
      ]
    },
    {
      "cell_type": "code",
      "metadata": {
        "id": "zHJAkr1ifA-T"
      },
      "source": [
        "plot_cat_bars(['education', 'default'])"
      ],
      "execution_count": null,
      "outputs": []
    },
    {
      "cell_type": "markdown",
      "metadata": {
        "id": "JCysHIBMfA-T"
      },
      "source": [
        "- Few unknown values for the education variable\n",
        "- Much more unknowns for the default column. Also, there seems to be very few yes values."
      ]
    },
    {
      "cell_type": "code",
      "metadata": {
        "id": "u656jZJtfA-U"
      },
      "source": [
        "df[\"default\"].value_counts()"
      ],
      "execution_count": null,
      "outputs": []
    },
    {
      "cell_type": "markdown",
      "metadata": {
        "id": "AFSuSNxffA-U"
      },
      "source": [
        "There are so few persons that have credit in default that the default column looks really useless for our model. Indeed people with credit in default won't be able to get a new loan anyways."
      ]
    },
    {
      "cell_type": "code",
      "metadata": {
        "id": "zxpMgJizfA-U"
      },
      "source": [
        "plot_cat_bars(['housing', 'loan'])"
      ],
      "execution_count": null,
      "outputs": []
    },
    {
      "cell_type": "markdown",
      "metadata": {
        "id": "PBBlgJEOfA-V"
      },
      "source": [
        "- Few unknown variables for housing and loan.\n",
        "- Distribution is relatively balanced for the housing variable.\n",
        "- Most people don't have a loan."
      ]
    },
    {
      "cell_type": "code",
      "metadata": {
        "id": "xul2-ho_fA-V"
      },
      "source": [
        "plot_cat_bars(['contact', 'poutcome'])"
      ],
      "execution_count": null,
      "outputs": []
    },
    {
      "cell_type": "markdown",
      "metadata": {
        "id": "sxwzpKMdfA-V"
      },
      "source": [
        "- Most people are contacted through cellular\n",
        "- A majority of the clients haven't been previously contacted in a marketing campaign."
      ]
    },
    {
      "cell_type": "code",
      "metadata": {
        "id": "qgEhqjTBfA-V"
      },
      "source": [
        "plot_cat_bars(['day_of_week', 'month'])"
      ],
      "execution_count": null,
      "outputs": []
    },
    {
      "cell_type": "markdown",
      "metadata": {
        "id": "oM4llXkVfA-W"
      },
      "source": [
        "- Contacts are distributed evenly across the days of the week\n",
        "- There were very few contacts during March, September, October and December : this is important as we will see later that the target variable distribution is very different in these particular months. Most of the marketing campaign was done in May."
      ]
    },
    {
      "cell_type": "markdown",
      "metadata": {
        "id": "m6W8bvv4fA-W"
      },
      "source": [
        "#### 1.1.3 Numerical features"
      ]
    },
    {
      "cell_type": "markdown",
      "metadata": {
        "id": "r9T67r5BfA-W"
      },
      "source": [
        "We will now take a look at the numerical columns.\n",
        "\n",
        "We define a helper function to analyze our numerical features."
      ]
    },
    {
      "cell_type": "code",
      "metadata": {
        "id": "JcKR1_bJfA-W"
      },
      "source": [
        "def plot_num_cols(cols):\n",
        "    if isinstance(cols, str):\n",
        "        cols = [cols]\n",
        "    n_cols = 2\n",
        "    n_rows = len(cols)\n",
        "    fig, axes = plt.subplots(nrows=n_rows, ncols=n_cols,\n",
        "                             figsize=(15, 4 * n_rows), squeeze=False)\n",
        "    for i, column in enumerate(cols):  # last column is the target variable\n",
        "        df[column].hist(ax=axes[i, 0], bins=25)\n",
        "        axes[i, 0].set_xlabel(column)\n",
        "        sns.boxplot(x=df[column], ax=axes[i, 1])"
      ],
      "execution_count": null,
      "outputs": []
    },
    {
      "cell_type": "code",
      "metadata": {
        "scrolled": false,
        "id": "xQoWVeSvfA-X"
      },
      "source": [
        "plot_num_cols(num_cols)"
      ],
      "execution_count": null,
      "outputs": []
    },
    {
      "cell_type": "markdown",
      "metadata": {
        "id": "MTXTjAQjfA-X"
      },
      "source": [
        "- the only feature that looks approximately gaussian is the age variable.\n",
        "\n",
        "\n",
        "- other features are either skewed right (duration, campaign, previous), left (cons.price, nr.employed) or concentrated around few spikes.\n",
        "\n",
        "\n",
        "- age, duration and campaign have some outliers. However, those outliers are most likely not errors since it is reasonable to think that some people might have more than 90 years old, that some calls might have lasted more than an hour and that some people might have been contacted 50 times. As a result, in our future models, we'll have to either use algorithms robust to outliers or evaluate the impact of the outliers on the result.\n",
        "\n",
        "\n",
        "- concerning pdays, we see that more than 75% of people were never contacted before for a loan so maybe it would be better to create a binary variable which states whether the person was contacted before instead of this representation. A similar situation shows for previous.\n",
        "\n",
        "\n",
        "- even though some features are floats, there seem to be only a handle of discrete values per column : this is confirmed by the following table."
      ]
    },
    {
      "cell_type": "code",
      "metadata": {
        "scrolled": true,
        "id": "3E0Vor_TfA-X"
      },
      "source": [
        "number_of_cats = [df[col].nunique() for col in num_cols]\n",
        "pd.DataFrame(\n",
        "    {'Column': num_cols, 'Number of different values': number_of_cats})"
      ],
      "execution_count": null,
      "outputs": []
    },
    {
      "cell_type": "markdown",
      "metadata": {
        "id": "X9Jtf6p2fA-Y"
      },
      "source": [
        "#### 1.1.4 Missing values"
      ]
    },
    {
      "cell_type": "code",
      "metadata": {
        "id": "9lQa8PTKfA-Y"
      },
      "source": [
        "(df == 'unknown').sum(axis=0)"
      ],
      "execution_count": null,
      "outputs": []
    },
    {
      "cell_type": "markdown",
      "metadata": {
        "id": "HYZJTJcjfA-Y"
      },
      "source": [
        "We will need to handle the missing values in job, marital, education, default, housing and loan columns.\n",
        "\n",
        "As seen in the previous plots, the 'default', 'loan' and 'marital' histograms have a highly represented value so we could replace the missing values by the most frequent value for these columns.\n",
        "\n",
        "In the three other categorical columns with missing values (job, education, housing), we don't have a highly represented value.\n",
        "\n",
        "Thus a good imputation strategy that we will use for every column is matching using KNN imputation. It is implemented after the EDA analysis."
      ]
    },
    {
      "cell_type": "markdown",
      "metadata": {
        "id": "AO6jIJnQfA-Y"
      },
      "source": [
        "### 1.2 Bivariate analysis"
      ]
    },
    {
      "cell_type": "markdown",
      "metadata": {
        "id": "q_17-j-LfA-Y"
      },
      "source": [
        "#### 1.2.1 Features vs features"
      ]
    },
    {
      "cell_type": "markdown",
      "metadata": {
        "id": "aVMOsbl-fA-Y"
      },
      "source": [
        "#### Correlations (numerical features only)"
      ]
    },
    {
      "cell_type": "code",
      "metadata": {
        "id": "gRaLWjLwfA-Z"
      },
      "source": [
        "corr = df.drop('y', axis = 1).corr()\n",
        "# corr.style.background_gradient(cmap='coolwarm').set_precision(2)\n",
        "f, ax = plt.subplots(figsize=(13,8))\n",
        "mask = np.triu(np.ones_like(corr, dtype=bool))\n",
        "ax = sns.heatmap(corr, xticklabels=corr.columns, mask = mask, yticklabels=corr.columns,\n",
        "            center=0, linewidths=.5, cmap=sns.diverging_palette(230, 20, as_cmap=True), annot = True)"
      ],
      "execution_count": null,
      "outputs": []
    },
    {
      "cell_type": "markdown",
      "metadata": {
        "id": "7xHx-NpYfA-Z"
      },
      "source": [
        "Significant correlations between our features (abs > 0.5) are :"
      ]
    },
    {
      "cell_type": "code",
      "metadata": {
        "id": "AtMwAPXEfA-Z"
      },
      "source": [
        "f, ax = plt.subplots(figsize=(13,8))\n",
        "np.fill_diagonal(corr.values, 0)\n",
        "mask = (abs(corr) < 0.5)\n",
        "ax = sns.heatmap(corr, xticklabels=corr.columns, mask = mask, yticklabels=corr.columns,\n",
        "            center=0, linewidths=.5, cmap=sns.diverging_palette(230, 20, as_cmap=True), annot = True)"
      ],
      "execution_count": null,
      "outputs": []
    },
    {
      "cell_type": "markdown",
      "metadata": {
        "id": "ad7u1aVqfA-Z"
      },
      "source": [
        "From this representation, it is very clear that emp.var.rate, euribor3m and nr.employed are highly correlated. We will likely need to drop one or two of these variables in our models."
      ]
    },
    {
      "cell_type": "markdown",
      "metadata": {
        "id": "pbWEu0oJfA-Z"
      },
      "source": [
        "#### 1.2.2 Features vs target"
      ]
    },
    {
      "cell_type": "markdown",
      "metadata": {
        "id": "fbcgXHCgfA-a"
      },
      "source": [
        "The correlations are very different depending on the categories, we will do further analysis before our first conclusions. We will factorize the variable we want to predict as it will be useful to continue our analysis."
      ]
    },
    {
      "cell_type": "code",
      "metadata": {
        "id": "1LplN3_CfA-a"
      },
      "source": [
        "target_map = {'yes': 1, 'no': 0}\n",
        "df['y'] = pd.to_numeric(df['y'].map(target_map))"
      ],
      "execution_count": null,
      "outputs": []
    },
    {
      "cell_type": "code",
      "metadata": {
        "id": "ILYQ7YQefA-a"
      },
      "source": [
        "df.head()"
      ],
      "execution_count": null,
      "outputs": []
    },
    {
      "cell_type": "markdown",
      "metadata": {
        "id": "LjVNjJDFfA-a"
      },
      "source": [
        "Helper function to plot the loan acceptance ratios in each category of a column (or each interval for numerical features)."
      ]
    },
    {
      "cell_type": "code",
      "metadata": {
        "id": "CoDqgDldfA-a"
      },
      "source": [
        "def plot_acceptance_ratio_bars(cols, num_intervals = 10):\n",
        "    \n",
        "    if isinstance(cols, str):\n",
        "        cols = [cols]\n",
        "    n_cols = 2\n",
        "    n_rows = int(np.ceil(len(cols)/n_cols))\n",
        "    fig, axes = plt.subplots(nrows=n_rows, ncols=n_cols, figsize=(15, 4 * n_rows), squeeze=False) \n",
        "    \n",
        "    for i, col in enumerate(cols):\n",
        "        plt.sca(axes[i//n_cols, i % n_cols])\n",
        "        if col in cat_cols:\n",
        "            sns.barplot(x=col, y=\"y\", data=df)\n",
        "        else:\n",
        "            s = pd.cut(df[col], num_intervals,\n",
        "                                       duplicates='drop', precision=0)\n",
        "            sns.barplot(x=s, y=df[\"y\"])\n",
        "        plt.xticks(rotation=45)\n",
        "        \n",
        "    if len(cols) % 2 == 1:\n",
        "        axes[-1, -1].set_visible(False)\n",
        "        \n",
        "    fig.subplots_adjust(hspace=0.75)"
      ],
      "execution_count": null,
      "outputs": []
    },
    {
      "cell_type": "code",
      "metadata": {
        "scrolled": false,
        "id": "JM1jLm0MfA-b"
      },
      "source": [
        "plot_acceptance_ratio_bars(['age', 'job'])"
      ],
      "execution_count": null,
      "outputs": []
    },
    {
      "cell_type": "markdown",
      "metadata": {
        "id": "OQkidjcafA-b"
      },
      "source": [
        "- Student and retired people seem to be significantly more likely to accept a loan."
      ]
    },
    {
      "cell_type": "code",
      "metadata": {
        "scrolled": false,
        "id": "nXoFusZNfA-b"
      },
      "source": [
        "plot_acceptance_ratio_bars(['marital', 'education'])"
      ],
      "execution_count": null,
      "outputs": []
    },
    {
      "cell_type": "markdown",
      "metadata": {
        "id": "qk9fZe8-fA-b"
      },
      "source": [
        "- Loan acceptance varies quite significantly depending on education\n",
        "- Single persons are more likely to accept which is most likely related to the age factor. The marital column might bring very similar information to the age. Indeed we saw above that the likelihood that a student accepts a loan is much higher than for other categories and most students are single as you can see below."
      ]
    },
    {
      "cell_type": "code",
      "metadata": {
        "id": "BH15bmBOfA-b"
      },
      "source": [
        "df.loc[df[\"job\"] == \"student\", \"marital\"].value_counts()"
      ],
      "execution_count": null,
      "outputs": []
    },
    {
      "cell_type": "code",
      "metadata": {
        "scrolled": false,
        "id": "0TIzYBVsfA-c"
      },
      "source": [
        "plot_acceptance_ratio_bars(['duration', 'contact'])"
      ],
      "execution_count": null,
      "outputs": []
    },
    {
      "cell_type": "markdown",
      "metadata": {
        "id": "X4F0pVjwfA-c"
      },
      "source": [
        "- Concerning contact, customer contacted by telephone instead of cellular seem to be unappealing.\n",
        "- Unsurprisingly the longer a call goes, the higher the chance the customer is interested by the loan and likely to accept it."
      ]
    },
    {
      "cell_type": "code",
      "metadata": {
        "scrolled": false,
        "id": "ATvmlLcqfA-c"
      },
      "source": [
        "plot_acceptance_ratio_bars(['month', 'day_of_week'])"
      ],
      "execution_count": null,
      "outputs": []
    },
    {
      "cell_type": "markdown",
      "metadata": {
        "id": "evBeuvCQfA-c"
      },
      "source": [
        "- We notice that some months like March, September, October and December have a very high percentage of loan accepted. However, these months are not very represented in the dataset. We can assume that there was a particular target for these months with very interested customers. We will create a column special_month to differentiate customers.\n",
        "\n",
        "- The influence of the days of the week on the loan acceptance seems pretty low."
      ]
    },
    {
      "cell_type": "code",
      "metadata": {
        "scrolled": false,
        "id": "EfZN-Ca2fA-c"
      },
      "source": [
        "plot_acceptance_ratio_bars(['loan', 'housing'])"
      ],
      "execution_count": null,
      "outputs": []
    },
    {
      "cell_type": "markdown",
      "metadata": {
        "id": "mCRm4QBPfA-d"
      },
      "source": [
        "- Whether the person already has a loan or not doesn't seem to impact much the acceptance ratio. The differences are slight."
      ]
    },
    {
      "cell_type": "code",
      "metadata": {
        "scrolled": false,
        "id": "ucJt6BaBfA-d"
      },
      "source": [
        "plot_acceptance_ratio_bars(['pdays', 'previous', 'poutcome', 'campaign'])"
      ],
      "execution_count": null,
      "outputs": []
    },
    {
      "cell_type": "markdown",
      "metadata": {
        "id": "mTWmLVX7fA-d"
      },
      "source": [
        "- People that were contacted in previous campaigns seem more likely to accept a loan.\n",
        "- However, the more a person gets contacted within a campaign, the less likely it seems that she will accept a loan. Contacting several times the same person seems like a waste of time.\n",
        "- People that already accepted a loan in a previous campaign have a high chance of reaccepting."
      ]
    },
    {
      "cell_type": "code",
      "metadata": {
        "scrolled": false,
        "id": "ixRQF1k_fA-e"
      },
      "source": [
        "plot_acceptance_ratio_bars(['emp.var.rate', 'cons.price.idx',\n",
        "       'cons.conf.idx', 'euribor3m', 'nr.employed'])"
      ],
      "execution_count": null,
      "outputs": []
    },
    {
      "cell_type": "markdown",
      "metadata": {
        "id": "o1ohOFJbfA-e"
      },
      "source": [
        "Macro economic indicators are hard to interpret since the high acceptances spikes that we see might be related to the  acceptance outliers of March, September, October and December that we saw previously. The only clear trend seems to be that when the number of employees decreases, the acceptance rate of loans increases.\n",
        "\n",
        "Maybe a density view would be more appropriate for these variables."
      ]
    },
    {
      "cell_type": "code",
      "metadata": {
        "scrolled": false,
        "id": "1x5Yet4DfA-f"
      },
      "source": [
        "import warnings\n",
        "warnings.filterwarnings(\"ignore\")\n",
        "\n",
        "accepted_df = df[df['y'] == 1]\n",
        "rejected_df = df[df['y'] == 0]\n",
        "\n",
        "n_rows = 3\n",
        "n_cols = 2\n",
        "\n",
        "fig, axes = plt.subplots(nrows=n_rows, ncols=n_cols, figsize=(15, 4 * n_rows), squeeze=False) \n",
        "    \n",
        "for i, col in enumerate(['emp.var.rate', 'cons.price.idx',\n",
        "       'cons.conf.idx', 'euribor3m', 'nr.employed']):\n",
        "    plt.sca(axes[i//n_cols, i % n_cols])\n",
        "    sns.distplot(accepted_df[col], label='Accepted')\n",
        "    sns.distplot(rejected_df[col], label='Rejected')\n",
        "    plt.legend()\n",
        "    \n",
        "\n",
        "axes[-1, -1].set_visible(False)\n",
        "    \n",
        "warnings.filterwarnings(\"default\")"
      ],
      "execution_count": null,
      "outputs": []
    },
    {
      "cell_type": "markdown",
      "metadata": {
        "id": "qPP_YjNmfA-f"
      },
      "source": [
        "- Lower (negative) employment variation rate, lower consummation price index, lower euribor rate and lower number of employees seem to have a positive impact on loan contraction. Economical situation looks very correlated with loan contraction.\n",
        "- Consumer confidence is hard to interpret."
      ]
    },
    {
      "cell_type": "markdown",
      "metadata": {
        "id": "IuS7HzeRfA-f"
      },
      "source": [
        "## 2. Prediction models"
      ]
    },
    {
      "cell_type": "markdown",
      "metadata": {
        "id": "S86ZsT2zfA-g"
      },
      "source": [
        "### 2.1 Reload data and preprocess before models "
      ]
    },
    {
      "cell_type": "code",
      "metadata": {
        "scrolled": false,
        "id": "Mq9vA-UrfA-g"
      },
      "source": [
        "from sklearn.impute import KNNImputer\n",
        "\n",
        "# load data\n",
        "df = pd.read_csv('data/bank-full.csv', sep=\";\")\n",
        "\n",
        "# convert categorical columns to categorical type\n",
        "cat_cols = [column_name for column_name in df.columns if str(\n",
        "    df[column_name].dtype) == 'object']\n",
        "num_cols = [\n",
        "    column_name for column_name in df.columns if column_name not in cat_cols]\n",
        "df[cat_cols] = df[cat_cols].astype('category')\n",
        "\n",
        "# replace missing values by np.nan\n",
        "df = df.replace('unknown', np.nan)\n",
        "\n",
        "# one hot encode to be able to use KNNImputation\n",
        "df = pd.get_dummies(df, dummy_na=True)\n",
        "for col in cat_cols:\n",
        "    df.loc[df[col + \"_nan\"] == 1, df.columns.str.startswith(col)] = np.nan\n",
        "    del df[col + \"_nan\"]\n",
        "\n",
        "# impute values\n",
        "imputer = KNNImputer(n_neighbors=5)\n",
        "df = pd.DataFrame(imputer.fit_transform(df.values),columns = df.columns)\n",
        "\n",
        "# revert dummification\n",
        "for col in cat_cols:\n",
        "    df[col] = df.loc[:, df.columns.str.startswith(col)].idxmax(axis=1).str.replace(col + \"_\", '')\n",
        "    df = df.loc[:,~df.columns.str.startswith(col + \"_\")] \n",
        "\n",
        "# reset categorical column types\n",
        "df[cat_cols] = df[cat_cols].astype('category')\n",
        "\n",
        "# convert target variable to binary 0-1\n",
        "\n",
        "target_map = {'yes': 1, 'no': 0}\n",
        "df['y'] = pd.to_numeric(df['y'].map(target_map))\n",
        "\n",
        "df.head()"
      ],
      "execution_count": null,
      "outputs": []
    },
    {
      "cell_type": "code",
      "metadata": {
        "id": "ZuF8HVsMfA-g"
      },
      "source": [
        "import sys\n",
        "!{sys.executable} -m pip install scikit-learn\n",
        "!{sys.executable} -m pip install ramp-workflow\n",
        "!{sys.executable} -m pip install ramp-utils"
      ],
      "execution_count": null,
      "outputs": []
    },
    {
      "cell_type": "code",
      "metadata": {
        "id": "OsFAoyoNfA-g"
      },
      "source": [
        "import numpy as np\n",
        "import pandas as pd\n",
        "import warnings\n",
        "warnings.filterwarnings('ignore')\n",
        "\n",
        "from rampwf.workflows import FeatureExtractorClassifier\n",
        "from rampwf.score_types.base import BaseScoreType\n",
        "from sklearn.base import BaseEstimator\n",
        "from sklearn.impute import SimpleImputer\n",
        "from sklearn.impute import KNNImputer\n",
        "import seaborn as sns\n",
        "import matplotlib.pyplot as plt\n",
        "\n",
        "from sklearn.metrics import balanced_accuracy_score, confusion_matrix\n",
        "\n",
        "import lightgbm as lgb\n",
        "from sklearn.linear_model import LogisticRegression\n",
        "from sklearn.svm import SVC\n",
        "\n",
        "from sklearn.pipeline import make_pipeline\n",
        "from sklearn.compose import make_column_transformer\n",
        "from sklearn.preprocessing import MinMaxScaler\n",
        "\n",
        "import problem"
      ],
      "execution_count": null,
      "outputs": []
    },
    {
      "cell_type": "markdown",
      "metadata": {
        "id": "Ki4tGP1KfA-h"
      },
      "source": [
        "## Get Data"
      ]
    },
    {
      "cell_type": "code",
      "metadata": {
        "id": "qG4tfeVqfA-h"
      },
      "source": [
        "X, y = problem.get_train_data()\n",
        "X_test, y_test = problem.get_test_data()"
      ],
      "execution_count": null,
      "outputs": []
    },
    {
      "cell_type": "markdown",
      "metadata": {
        "id": "qPRtOJlrvq9x"
      },
      "source": [
        "# Workflow"
      ]
    },
    {
      "cell_type": "markdown",
      "metadata": {
        "id": "kFQIzb_pfA-h"
      },
      "source": [
        "**A submission will have to respect the following workflow** :  \n",
        "\n",
        "* All data processing (missing values, features creation ect) have to be implemented in feature_extractor.py\n",
        "* Then your model and all its parameters need to be referenced in classifier.py  \n",
        "\n",
        "Thanks to these, the library will evaluate a submission by doing a Stratify Shuffle Split with 8 splits."
      ]
    },
    {
      "cell_type": "markdown",
      "metadata": {
        "id": "6q9Zvkt8fA-h"
      },
      "source": [
        "<img src='./workflow.PNG' width='80%'>"
      ]
    },
    {
      "cell_type": "markdown",
      "metadata": {
        "id": "XUHfRaajfA-h"
      },
      "source": [
        "### Data preprocessing in Feature Extractor"
      ]
    },
    {
      "cell_type": "markdown",
      "metadata": {
        "id": "sessAuyTfA-h"
      },
      "source": [
        "Knowing that all the missing values are in categorical columns, we decided to use KNN imputers with 5 neighboors to fill them, we directly implemented it in the class below.  \n",
        "\n",
        "We also choose to encode the variable *pdays* and *previous* to reduce the complexity. The *pdays* encode doesn't seem to be really useful, howeved the *previous* encode will increase our score a little. "
      ]
    },
    {
      "cell_type": "code",
      "metadata": {
        "id": "iAvevEXcfA-h"
      },
      "source": [
        "class FeatureExtractor(BaseEstimator):\n",
        "    def __init__(self, imputer_neighbors: int = 5):\n",
        "        self.imputer = KNNImputer(n_neighbors=imputer_neighbors)\n",
        "        self.cat_cols = None\n",
        "        self.num_cols = None\n",
        "\n",
        "    def fit(self, X, y=None):\n",
        "        # convert categorical columns to categorical type\n",
        "        self.cat_cols = [\n",
        "            column_name for column_name in X.columns\n",
        "            if str(X[column_name].dtype) == 'object'\n",
        "        ]\n",
        "        self.num_cols = [\n",
        "            column_name for column_name in X.columns\n",
        "            if column_name not in self.cat_cols\n",
        "        ]\n",
        "        X[self.cat_cols] = X[self.cat_cols].astype('category')\n",
        "\n",
        "        # one hot encode to be able to use KNNImputation\n",
        "        X_dummy = X.copy()\n",
        "        X_dummy = pd.get_dummies(X, dummy_na=True)\n",
        "        for col in self.cat_cols:\n",
        "            X_dummy.loc[X_dummy[col + \"_nan\"] == 1,\n",
        "                        X_dummy.columns.str.startswith(col)] = np.nan\n",
        "            del X_dummy[col + \"_nan\"]\n",
        "\n",
        "        # fit imputer\n",
        "        self.imputer.fit(X_dummy)\n",
        "\n",
        "    def transform(self, X):\n",
        "        # one hot encode to be able to use KNNImputation\n",
        "        X_dummy = X.copy()\n",
        "        X_dummy = pd.get_dummies(X, dummy_na=True)\n",
        "        for col in self.cat_cols:\n",
        "            X_dummy.loc[X_dummy[col + \"_nan\"] == 1,\n",
        "                        X_dummy.columns.str.startswith(col)] = np.nan\n",
        "            del X_dummy[col + \"_nan\"]\n",
        "\n",
        "        X_dummy = pd.DataFrame(self.imputer.transform(X_dummy.values),\n",
        "                               columns=X_dummy.columns)\n",
        "\n",
        "        # revert dummification\n",
        "        for col in self.cat_cols:\n",
        "            X_dummy[col] = X_dummy.loc[:,\n",
        "                                       X_dummy.columns.str.\n",
        "                                       startswith(col)].idxmax(\n",
        "                                           axis=1).str.replace(col + \"_\", '')\n",
        "            X_dummy = X_dummy.loc[:,\n",
        "                                  ~X_dummy.columns.str.startswith(col + \"_\")]\n",
        "\n",
        "        # reset categorical column types\n",
        "        X_dummy[self.cat_cols] = X_dummy[self.cat_cols].astype('category')\n",
        "\n",
        "        # simplify pdays & previous\n",
        "        X_dummy.pdays = np.where(X_dummy.pdays != 999., 1, 0)\n",
        "        X_dummy.previous = np.where(X_dummy.previous >= 1., 1, 0)\n",
        "\n",
        "        return X_dummy"
      ],
      "execution_count": null,
      "outputs": []
    },
    {
      "cell_type": "code",
      "metadata": {
        "id": "pNqopIOOfA-i"
      },
      "source": [
        "feature_ex = FeatureExtractor()\n",
        "feature_ex.fit(X)\n",
        "\n",
        "X = feature_ex.transform(X)\n",
        "X_test = feature_ex.transform(X_test)"
      ],
      "execution_count": null,
      "outputs": []
    },
    {
      "cell_type": "markdown",
      "metadata": {
        "id": "Ith3Ad4ZfA-i"
      },
      "source": [
        "## Metrics"
      ]
    },
    {
      "cell_type": "markdown",
      "metadata": {
        "id": "e6w2soJhfA-i"
      },
      "source": [
        "As we noticed in the analysis part, the dataset is highly unbalanced. Therefore it seems logical to take a metric which severely penalizes insensitive models.  \n",
        "\n",
        "We took the *balanced_accuracy_score* from *sklearn.metrics* with is basically the mean between the recall of each label, or more commonly the average between the sensitivity and the specificity. "
      ]
    },
    {
      "cell_type": "code",
      "metadata": {
        "id": "03VOc3ezfA-i"
      },
      "source": [
        "class FScoreBank(BaseScoreType):\n",
        "    is_lower_the_better = False\n",
        "    minimum = 0.0\n",
        "    maximum = 1.0\n",
        "\n",
        "    def __init__(self, name='balanced_accuracy', precision=2):\n",
        "        self.name = name\n",
        "        self.precision = precision\n",
        "\n",
        "    def __call__(self, y_true, y_pred):\n",
        "        score = balanced_accuracy_score(y_true, y_pred)\n",
        "        return score"
      ],
      "execution_count": null,
      "outputs": []
    },
    {
      "cell_type": "code",
      "metadata": {
        "id": "mBeuRWAbfA-i"
      },
      "source": [
        "from problem import FScoreBank\n",
        "\n",
        "def compute_score(y_true, y_pred, matrix=False):\n",
        "    \n",
        "    if matrix:\n",
        "        cf_matrix = confusion_matrix(y_test,y_pred)\n",
        "        ax = sns.heatmap(cf_matrix/np.sum(cf_matrix), annot=True, fmt='.2%', cmap='Blues')\n",
        "        ax.set(xlabel='Predicted', ylabel='True')\n",
        "        plt.show()\n",
        "    print(\"Balanced accuracy score : \", FScoreBank()(y_test,y_pred))"
      ],
      "execution_count": null,
      "outputs": []
    },
    {
      "cell_type": "markdown",
      "metadata": {
        "id": "DIj-uVpHfA-i"
      },
      "source": [
        "## Model"
      ]
    },
    {
      "cell_type": "markdown",
      "metadata": {
        "id": "2NI9N_NvfA-i"
      },
      "source": [
        "We decied to test different models on this dataset.  \n",
        "We ran an SVM with an RBF kernel, a logisitic regression with L1 norm and finally the gradient boosting LightGBM.  \n",
        "\n",
        "All of the three models perfom well and have implemented parameters to handle unbalanced labels."
      ]
    },
    {
      "cell_type": "code",
      "metadata": {
        "id": "MVlBKIw6fA-j",
        "outputId": "11ac63d2-5d9d-45d8-f5db-b0b3e1d8a5c3"
      },
      "source": [
        "numerical_preprocessing = make_column_transformer(\n",
        "    (MinMaxScaler(), feature_ex.num_cols)\n",
        ")\n",
        "\n",
        "model = make_pipeline(numerical_preprocessing, SVC(C=1, kernel='rbf', class_weight='balanced'))\n",
        "model.fit(pd.get_dummies(X),y)\n",
        "y_pred = model.predict(pd.get_dummies(X_test))\n",
        "print('SVM with RBF Kernel')\n",
        "compute_score(y_test, y_pred)"
      ],
      "execution_count": null,
      "outputs": [
        {
          "output_type": "stream",
          "text": [
            "SVM with RBF Kernel\n",
            "Balanced accuracy score :  0.8758563284124988\n"
          ],
          "name": "stdout"
        }
      ]
    },
    {
      "cell_type": "code",
      "metadata": {
        "id": "9FkKnTztfA-j",
        "outputId": "9a0a0dcf-7edf-4982-d9fa-1a3f27c710e6"
      },
      "source": [
        "log_reg = LogisticRegression(penalty='l1', solver='liblinear', class_weight='balanced', n_jobs=-1)\n",
        "log_reg.fit(pd.get_dummies(X),y)\n",
        "y_pred = log_reg.predict(pd.get_dummies(X_test))\n",
        "print('Logistic Regression with L1 Norm')\n",
        "compute_score(y_test, y_pred)"
      ],
      "execution_count": null,
      "outputs": [
        {
          "output_type": "stream",
          "text": [
            "Logistic Regression with L1 Norm\n",
            "Balanced accuracy score :  0.8783198412816169\n"
          ],
          "name": "stdout"
        }
      ]
    },
    {
      "cell_type": "code",
      "metadata": {
        "id": "4XDdwz0XfA-j",
        "outputId": "55a557ff-e917-4abc-99e2-aff03d7783ab"
      },
      "source": [
        "model = lgb.LGBMClassifier(is_unbalance=True, n_jobs=-1)\n",
        "model.fit(X,y)\n",
        "y_pred = model.predict(X_test)\n",
        "print('Light GBM')\n",
        "compute_score(y_test, y_pred, matrix=True)"
      ],
      "execution_count": null,
      "outputs": [
        {
          "output_type": "stream",
          "text": [
            "Light GBM\n"
          ],
          "name": "stdout"
        },
        {
          "output_type": "display_data",
          "data": {
            "image/png": "[encoded data removed]",
            "text/plain": [
              "<Figure size 432x288 with 2 Axes>"
            ]
          },
          "metadata": {
            "tags": [],
            "needs_background": "light"
          }
        },
        {
          "output_type": "stream",
          "text": [
            "Balanced accuracy score :  0.8899389405554429\n"
          ],
          "name": "stdout"
        }
      ]
    },
    {
      "cell_type": "markdown",
      "metadata": {
        "id": "BwsE4RG1fA-j"
      },
      "source": [
        "To see how we can increase our score, let's plot the features importance from LightGBM : "
      ]
    },
    {
      "cell_type": "code",
      "metadata": {
        "id": "HNxTqeayfA-j",
        "outputId": "d9eef1a7-52aa-44c6-d2a9-385d28e17a75"
      },
      "source": [
        "lgb.plot_importance(model,grid=False, height=0.5)"
      ],
      "execution_count": null,
      "outputs": [
        {
          "output_type": "execute_result",
          "data": {
            "text/plain": [
              "<AxesSubplot:title={'center':'Feature importance'}, xlabel='Feature importance', ylabel='Features'>"
            ]
          },
          "metadata": {
            "tags": []
          },
          "execution_count": 11
        },
        {
          "output_type": "display_data",
          "data": {
            "image/png": "[encoded data removed]",
            "text/plain": [
              "<Figure size 432x288 with 1 Axes>"
            ]
          },
          "metadata": {
            "tags": [],
            "needs_background": "light"
          }
        }
      ]
    },
    {
      "cell_type": "markdown",
      "metadata": {
        "id": "ZqWdAooWfA-k"
      },
      "source": [
        "As we can see here, *loan* and *previous* don't seem to be really relevant. Let's take them out and see if it improves."
      ]
    },
    {
      "cell_type": "code",
      "metadata": {
        "id": "EzzFX5u8fA-k"
      },
      "source": [
        "X.drop(columns=['previous','loan'], inplace=True)\n",
        "X_test.drop(columns=['previous','loan'], inplace=True)"
      ],
      "execution_count": null,
      "outputs": []
    },
    {
      "cell_type": "code",
      "metadata": {
        "id": "Qfb--UJ8fA-k",
        "outputId": "da923666-8018-4f02-c04d-f3948acbc260"
      },
      "source": [
        "model = lgb.LGBMClassifier(is_unbalance=True, n_jobs=-1)\n",
        "model.fit(X, y)\n",
        "y_pred = model.predict(X_test)\n",
        "print('Light GBM')\n",
        "compute_score(y_test, y_pred)"
      ],
      "execution_count": null,
      "outputs": [
        {
          "output_type": "stream",
          "text": [
            "Light GBM\n",
            "Balanced accuracy score :  0.8929711729978607\n"
          ],
          "name": "stdout"
        }
      ]
    },
    {
      "cell_type": "markdown",
      "metadata": {
        "id": "Elf0Bqo2fA-k"
      },
      "source": [
        "We will add this into the FeatureExtractor class. "
      ]
    },
    {
      "cell_type": "code",
      "metadata": {
        "id": "w821uO0sfA-k"
      },
      "source": [
        "class FeatureExtractor(BaseEstimator):\n",
        "    def __init__(self, imputer_neighbors: int = 5):\n",
        "        self.imputer = KNNImputer(n_neighbors=imputer_neighbors)\n",
        "        self.cat_cols = None\n",
        "        self.num_cols = None\n",
        "\n",
        "    def fit(self, X, y=None):\n",
        "        # convert categorical columns to categorical type\n",
        "        self.cat_cols = [\n",
        "            column_name for column_name in X.columns\n",
        "            if str(X[column_name].dtype) == 'object'\n",
        "        ]\n",
        "        self.num_cols = [\n",
        "            column_name for column_name in X.columns\n",
        "            if column_name not in self.cat_cols\n",
        "        ]\n",
        "        X[self.cat_cols] = X[self.cat_cols].astype('category')\n",
        "\n",
        "        # one hot encode to be able to use KNNImputation\n",
        "        X_dummy = X.copy()\n",
        "        X_dummy = pd.get_dummies(X, dummy_na=True)\n",
        "        for col in self.cat_cols:\n",
        "            X_dummy.loc[X_dummy[col + \"_nan\"] == 1,\n",
        "                        X_dummy.columns.str.startswith(col)] = np.nan\n",
        "            del X_dummy[col + \"_nan\"]\n",
        "\n",
        "        # fit imputer\n",
        "        self.imputer.fit(X_dummy)\n",
        "\n",
        "    def transform(self, X):\n",
        "        # one hot encode to be able to use KNNImputation\n",
        "        X_dummy = X.copy()\n",
        "        X_dummy = pd.get_dummies(X, dummy_na=True)\n",
        "        for col in self.cat_cols:\n",
        "            X_dummy.loc[X_dummy[col + \"_nan\"] == 1,\n",
        "                        X_dummy.columns.str.startswith(col)] = np.nan\n",
        "            del X_dummy[col + \"_nan\"]\n",
        "\n",
        "        X_dummy = pd.DataFrame(self.imputer.transform(X_dummy.values),\n",
        "                               columns=X_dummy.columns)\n",
        "\n",
        "        # revert dummification\n",
        "        for col in self.cat_cols:\n",
        "            X_dummy[col] = X_dummy.loc[:,\n",
        "                                       X_dummy.columns.str.\n",
        "                                       startswith(col)].idxmax(\n",
        "                                           axis=1).str.replace(col + \"_\", '')\n",
        "            X_dummy = X_dummy.loc[:,\n",
        "                                  ~X_dummy.columns.str.startswith(col + \"_\")]\n",
        "\n",
        "        # reset categorical column types\n",
        "        X_dummy[self.cat_cols] = X_dummy[self.cat_cols].astype('category')\n",
        "\n",
        "        # simplify pdays & previous\n",
        "        X_dummy.pdays = np.where(X_dummy.pdays != 999., 1, 0)\n",
        "        X_dummy.previous = np.where(X_dummy.previous >= 1., 1, 0)\n",
        "        X_dummy.drop(columns=['previous','loan'], inplace=True)\n",
        "\n",
        "        return X_dummy"
      ],
      "execution_count": null,
      "outputs": []
    },
    {
      "cell_type": "markdown",
      "metadata": {
        "id": "2OyV83STfA-k"
      },
      "source": [
        "Consequently, here is our Classifier :"
      ]
    },
    {
      "cell_type": "code",
      "metadata": {
        "id": "iAK-UeqZfA-l"
      },
      "source": [
        "class Classifier(BaseEstimator):\n",
        "    def __init__(self):\n",
        "        self.model = lgb.LGBMClassifier(is_unbalance=True, n_jobs=-1)\n",
        "\n",
        "    def fit(self, X, y):\n",
        "        self.model.fit(X, y)\n",
        "\n",
        "    def predict_proba(self, X):\n",
        "        y_pred = self.model.predict(X)\n",
        "        return np.array([1 - y_pred, y_pred]).T"
      ],
      "execution_count": null,
      "outputs": []
    },
    {
      "cell_type": "markdown",
      "metadata": {
        "id": "oxVCkEDTfA-l"
      },
      "source": [
        "# Submission"
      ]
    },
    {
      "cell_type": "markdown",
      "metadata": {
        "id": "VhlkZSawfA-l"
      },
      "source": [
        "It is important to test your submission locally before submitting them to ramp.studio. The data set we use at the backend is usually different from what you find in the starting kit, so the score may be different.  \n",
        "\n",
        "You can try your submissions localy before sending them online with the command below : "
      ]
    },
    {
      "cell_type": "code",
      "metadata": {
        "scrolled": false,
        "id": "IKPuJnZxfA-l",
        "outputId": "7a4922de-7cc6-45c9-fdd1-75f37f0e3d5f"
      },
      "source": [
        "import os\n",
        "!ramp_test_submission --submission starting_kit"
      ],
      "execution_count": null,
      "outputs": [
        {
          "output_type": "stream",
          "text": [
            "\u001b[38;5;178m\u001b[1mTesting Step Detection with Inertial Measurement Units\u001b[0m\n",
            "\u001b[38;5;178m\u001b[1mReading train and test files from ./data ...\u001b[0m\n",
            "\u001b[38;5;178m\u001b[1mReading cv ...\u001b[0m\n",
            "\u001b[38;5;178m\u001b[1mTraining submissions\\starting_kit ...\u001b[0m\n",
            "\u001b[38;5;178m\u001b[1mCV fold 0\u001b[0m\n",
            "\t\u001b[38;5;178m\u001b[1mscore  Balanced Accuracy       time\u001b[0m\n",
            "\t\u001b[38;5;10m\u001b[1mtrain\u001b[0m             \u001b[38;5;10m\u001b[1m0.9378\u001b[0m  \u001b[38;5;150m21.072688\u001b[0m\n",
            "\t\u001b[38;5;12m\u001b[1mvalid\u001b[0m             \u001b[38;5;12m\u001b[1m0.8815\u001b[0m  \u001b[38;5;105m25.266426\u001b[0m\n",
            "\t\u001b[38;5;1m\u001b[1mtest\u001b[0m              \u001b[38;5;1m\u001b[1m0.8854\u001b[0m  \u001b[38;5;218m12.104627\u001b[0m\n",
            "\u001b[38;5;178m\u001b[1mCV fold 1\u001b[0m\n",
            "\t\u001b[38;5;178m\u001b[1mscore  Balanced Accuracy       time\u001b[0m\n",
            "\t\u001b[38;5;10m\u001b[1mtrain\u001b[0m             \u001b[38;5;10m\u001b[1m0.9377\u001b[0m  \u001b[38;5;150m20.367529\u001b[0m\n",
            "\t\u001b[38;5;12m\u001b[1mvalid\u001b[0m             \u001b[38;5;12m\u001b[1m0.8846\u001b[0m  \u001b[38;5;105m24.726871\u001b[0m\n",
            "\t\u001b[38;5;1m\u001b[1mtest\u001b[0m              \u001b[38;5;1m\u001b[1m0.8864\u001b[0m  \u001b[38;5;218m11.814402\u001b[0m\n",
            "\u001b[38;5;178m\u001b[1mCV fold 2\u001b[0m\n",
            "\t\u001b[38;5;178m\u001b[1mscore  Balanced Accuracy       time\u001b[0m\n",
            "\t\u001b[38;5;10m\u001b[1mtrain\u001b[0m             \u001b[38;5;10m\u001b[1m0.9376\u001b[0m  \u001b[38;5;150m21.236043\u001b[0m\n",
            "\t\u001b[38;5;12m\u001b[1mvalid\u001b[0m             \u001b[38;5;12m\u001b[1m0.8774\u001b[0m  \u001b[38;5;105m25.374770\u001b[0m\n",
            "\t\u001b[38;5;1m\u001b[1mtest\u001b[0m              \u001b[38;5;1m\u001b[1m0.8858\u001b[0m  \u001b[38;5;218m11.994920\u001b[0m\n",
            "\u001b[38;5;178m\u001b[1mCV fold 3\u001b[0m\n",
            "\t\u001b[38;5;178m\u001b[1mscore  Balanced Accuracy       time\u001b[0m\n",
            "\t\u001b[38;5;10m\u001b[1mtrain\u001b[0m             \u001b[38;5;10m\u001b[1m0.9367\u001b[0m  \u001b[38;5;150m20.927043\u001b[0m\n",
            "\t\u001b[38;5;12m\u001b[1mvalid\u001b[0m             \u001b[38;5;12m\u001b[1m0.8757\u001b[0m  \u001b[38;5;105m25.183649\u001b[0m\n",
            "\t\u001b[38;5;1m\u001b[1mtest\u001b[0m              \u001b[38;5;1m\u001b[1m0.8895\u001b[0m  \u001b[38;5;218m12.065731\u001b[0m\n",
            "\u001b[38;5;178m\u001b[1mCV fold 4\u001b[0m\n",
            "\t\u001b[38;5;178m\u001b[1mscore  Balanced Accuracy       time\u001b[0m\n",
            "\t\u001b[38;5;10m\u001b[1mtrain\u001b[0m             \u001b[38;5;10m\u001b[1m0.9383\u001b[0m  \u001b[38;5;150m20.774415\u001b[0m\n",
            "\t\u001b[38;5;12m\u001b[1mvalid\u001b[0m             \u001b[38;5;12m\u001b[1m0.8784\u001b[0m  \u001b[38;5;105m25.328262\u001b[0m\n",
            "\t\u001b[38;5;1m\u001b[1mtest\u001b[0m              \u001b[38;5;1m\u001b[1m0.8903\u001b[0m  \u001b[38;5;218m12.119586\u001b[0m\n",
            "\u001b[38;5;178m\u001b[1mCV fold 5\u001b[0m\n",
            "\t\u001b[38;5;178m\u001b[1mscore  Balanced Accuracy       time\u001b[0m\n",
            "\t\u001b[38;5;10m\u001b[1mtrain\u001b[0m             \u001b[38;5;10m\u001b[1m0.9371\u001b[0m  \u001b[38;5;150m20.398420\u001b[0m\n",
            "\t\u001b[38;5;12m\u001b[1mvalid\u001b[0m             \u001b[38;5;12m\u001b[1m0.8950\u001b[0m  \u001b[38;5;105m24.866496\u001b[0m\n",
            "\t\u001b[38;5;1m\u001b[1mtest\u001b[0m              \u001b[38;5;1m\u001b[1m0.8893\u001b[0m  \u001b[38;5;218m11.828367\u001b[0m\n",
            "\u001b[38;5;178m\u001b[1mCV fold 6\u001b[0m\n",
            "\t\u001b[38;5;178m\u001b[1mscore  Balanced Accuracy       time\u001b[0m\n",
            "\t\u001b[38;5;10m\u001b[1mtrain\u001b[0m             \u001b[38;5;10m\u001b[1m0.9371\u001b[0m  \u001b[38;5;150m20.769425\u001b[0m\n",
            "\t\u001b[38;5;12m\u001b[1mvalid\u001b[0m             \u001b[38;5;12m\u001b[1m0.8906\u001b[0m  \u001b[38;5;105m25.372144\u001b[0m\n",
            "\t\u001b[38;5;1m\u001b[1mtest\u001b[0m              \u001b[38;5;1m\u001b[1m0.8866\u001b[0m  \u001b[38;5;218m12.055758\u001b[0m\n",
            "\u001b[38;5;178m\u001b[1mCV fold 7\u001b[0m\n",
            "\t\u001b[38;5;178m\u001b[1mscore  Balanced Accuracy       time\u001b[0m\n",
            "\t\u001b[38;5;10m\u001b[1mtrain\u001b[0m             \u001b[38;5;10m\u001b[1m0.9362\u001b[0m  \u001b[38;5;150m20.831253\u001b[0m\n",
            "\t\u001b[38;5;12m\u001b[1mvalid\u001b[0m             \u001b[38;5;12m\u001b[1m0.8904\u001b[0m  \u001b[38;5;105m24.844555\u001b[0m\n",
            "\t\u001b[38;5;1m\u001b[1mtest\u001b[0m              \u001b[38;5;1m\u001b[1m0.8890\u001b[0m  \u001b[38;5;218m11.824493\u001b[0m\n",
            "\u001b[38;5;178m\u001b[1m----------------------------\u001b[0m\n",
            "\u001b[38;5;178m\u001b[1mMean CV scores\u001b[0m\n",
            "\u001b[38;5;178m\u001b[1m----------------------------\u001b[0m\n",
            "\t\u001b[38;5;178m\u001b[1mscore Balanced Accuracy         time\u001b[0m\n",
            "\t\u001b[38;5;10m\u001b[1mtrain\u001b[0m  \u001b[38;5;10m\u001b[1m0.9373\u001b[0m \u001b[38;5;150m\u001b[38;5;150m±\u001b[0m\u001b[0m \u001b[38;5;150m0.00063\u001b[0m  \u001b[38;5;150m20.8\u001b[0m \u001b[38;5;150m\u001b[38;5;150m±\u001b[0m\u001b[0m \u001b[38;5;150m0.28\u001b[0m\n",
            "\t\u001b[38;5;12m\u001b[1mvalid\u001b[0m  \u001b[38;5;12m\u001b[1m0.8842\u001b[0m \u001b[38;5;105m\u001b[38;5;105m±\u001b[0m\u001b[0m \u001b[38;5;105m0.00666\u001b[0m  \u001b[38;5;105m25.1\u001b[0m \u001b[38;5;105m\u001b[38;5;105m±\u001b[0m\u001b[0m \u001b[38;5;105m0.25\u001b[0m\n",
            "\t\u001b[38;5;1m\u001b[1mtest\u001b[0m   \u001b[38;5;1m\u001b[1m0.8878\u001b[0m \u001b[38;5;218m\u001b[38;5;218m±\u001b[0m\u001b[0m \u001b[38;5;218m0.00181\u001b[0m  \u001b[38;5;218m12.0\u001b[0m \u001b[38;5;218m\u001b[38;5;218m±\u001b[0m\u001b[0m \u001b[38;5;218m0.12\u001b[0m\n",
            "\u001b[38;5;178m\u001b[1m----------------------------\u001b[0m\n",
            "\u001b[38;5;178m\u001b[1mBagged scores\u001b[0m\n",
            "\u001b[38;5;178m\u001b[1m----------------------------\u001b[0m\n",
            "\t\u001b[38;5;178m\u001b[1mscore  Balanced Accuracy\u001b[0m\n",
            "\t\u001b[38;5;12m\u001b[1mvalid\u001b[0m             \u001b[38;5;12m\u001b[1m0.8822\u001b[0m\n",
            "\t\u001b[38;5;1m\u001b[1mtest\u001b[0m              \u001b[38;5;1m\u001b[1m0.8915\u001b[0m\n"
          ],
          "name": "stdout"
        },
        {
          "output_type": "stream",
          "text": [
            "c:\\users\\gouzm\\anaconda3\\envs\\deepl\\lib\\site-packages\\pandas\\core\\frame.py:3065: SettingWithCopyWarning: \n",
            "A value is trying to be set on a copy of a slice from a DataFrame.\n",
            "Try using .loc[row_indexer,col_indexer] = value instead\n",
            "\n",
            "See the caveats in the documentation: https://pandas.pydata.org/pandas-docs/stable/user_guide/indexing.html#returning-a-view-versus-a-copy\n",
            "  self[k1] = value[k2]\n",
            "c:\\users\\gouzm\\anaconda3\\envs\\deepl\\lib\\site-packages\\pandas\\core\\frame.py:3065: SettingWithCopyWarning: \n",
            "A value is trying to be set on a copy of a slice from a DataFrame.\n",
            "Try using .loc[row_indexer,col_indexer] = value instead\n",
            "\n",
            "See the caveats in the documentation: https://pandas.pydata.org/pandas-docs/stable/user_guide/indexing.html#returning-a-view-versus-a-copy\n",
            "  self[k1] = value[k2]\n",
            "c:\\users\\gouzm\\anaconda3\\envs\\deepl\\lib\\site-packages\\pandas\\core\\frame.py:3065: SettingWithCopyWarning: \n",
            "A value is trying to be set on a copy of a slice from a DataFrame.\n",
            "Try using .loc[row_indexer,col_indexer] = value instead\n",
            "\n",
            "See the caveats in the documentation: https://pandas.pydata.org/pandas-docs/stable/user_guide/indexing.html#returning-a-view-versus-a-copy\n",
            "  self[k1] = value[k2]\n",
            "c:\\users\\gouzm\\anaconda3\\envs\\deepl\\lib\\site-packages\\pandas\\core\\frame.py:3065: SettingWithCopyWarning: \n",
            "A value is trying to be set on a copy of a slice from a DataFrame.\n",
            "Try using .loc[row_indexer,col_indexer] = value instead\n",
            "\n",
            "See the caveats in the documentation: https://pandas.pydata.org/pandas-docs/stable/user_guide/indexing.html#returning-a-view-versus-a-copy\n",
            "  self[k1] = value[k2]\n",
            "c:\\users\\gouzm\\anaconda3\\envs\\deepl\\lib\\site-packages\\pandas\\core\\frame.py:3065: SettingWithCopyWarning: \n",
            "A value is trying to be set on a copy of a slice from a DataFrame.\n",
            "Try using .loc[row_indexer,col_indexer] = value instead\n",
            "\n",
            "See the caveats in the documentation: https://pandas.pydata.org/pandas-docs/stable/user_guide/indexing.html#returning-a-view-versus-a-copy\n",
            "  self[k1] = value[k2]\n",
            "c:\\users\\gouzm\\anaconda3\\envs\\deepl\\lib\\site-packages\\pandas\\core\\frame.py:3065: SettingWithCopyWarning: \n",
            "A value is trying to be set on a copy of a slice from a DataFrame.\n",
            "Try using .loc[row_indexer,col_indexer] = value instead\n",
            "\n",
            "See the caveats in the documentation: https://pandas.pydata.org/pandas-docs/stable/user_guide/indexing.html#returning-a-view-versus-a-copy\n",
            "  self[k1] = value[k2]\n",
            "c:\\users\\gouzm\\anaconda3\\envs\\deepl\\lib\\site-packages\\pandas\\core\\frame.py:3065: SettingWithCopyWarning: \n",
            "A value is trying to be set on a copy of a slice from a DataFrame.\n",
            "Try using .loc[row_indexer,col_indexer] = value instead\n",
            "\n",
            "See the caveats in the documentation: https://pandas.pydata.org/pandas-docs/stable/user_guide/indexing.html#returning-a-view-versus-a-copy\n",
            "  self[k1] = value[k2]\n",
            "c:\\users\\gouzm\\anaconda3\\envs\\deepl\\lib\\site-packages\\pandas\\core\\frame.py:3065: SettingWithCopyWarning: \n",
            "A value is trying to be set on a copy of a slice from a DataFrame.\n",
            "Try using .loc[row_indexer,col_indexer] = value instead\n",
            "\n",
            "See the caveats in the documentation: https://pandas.pydata.org/pandas-docs/stable/user_guide/indexing.html#returning-a-view-versus-a-copy\n",
            "  self[k1] = value[k2]\n"
          ],
          "name": "stderr"
        }
      ]
    }
  ]
}